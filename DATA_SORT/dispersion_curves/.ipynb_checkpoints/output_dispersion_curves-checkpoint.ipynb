{
 "cells": [
  {
   "cell_type": "markdown",
   "id": "d0f6fae1-88e9-4a0c-ac04-704219b7403e",
   "metadata": {},
   "source": [
    "### Output the dispersion curves for overplotting on wavenumber-frequency spectra"
   ]
  },
  {
   "cell_type": "code",
   "execution_count": 9,
   "id": "3e269c93-8663-4a8f-8f02-1de0916766c7",
   "metadata": {},
   "outputs": [],
   "source": [
    "pathout=\"/project/cas/islas/python_savs/CAM7_vertres_paper/DATA_SORT/dispersion_curves/\""
   ]
  },
  {
   "cell_type": "code",
   "execution_count": 1,
   "id": "95d195d2-00c7-46ac-9d71-8096b514a5d9",
   "metadata": {},
   "outputs": [],
   "source": [
    "import xarray as xr\n",
    "import numpy as np\n",
    "import matplotlib.pyplot as plt\n",
    "from CASutils import plotting_utils as myplots"
   ]
  },
  {
   "cell_type": "markdown",
   "id": "a64c5ff3-5e44-473e-b41d-1da45bf8bd75",
   "metadata": {},
   "source": [
    "### Kelvin waves\n",
    "\n",
    "Dispersion relation: $\\omega = \\sqrt{gh_{e}}k\n",
    "\n",
    "Phase speed: $c = \\sqrt{gh_e}$\n",
    "\n",
    "- $\\omega$ = angular frequency in rad s$^{-1}$\n",
    "- $g$ = acceleration due to gravity (9.81 ms$^{-1}$)\n",
    "- $h_{e}$ = equivalent depth in m\n",
    "- $k$ = wavenumber in rad m$^{-1}$"
   ]
  },
  {
   "cell_type": "code",
   "execution_count": 2,
   "id": "9e7225c1-0ba1-41d9-bfa7-2117103a5afa",
   "metadata": {},
   "outputs": [],
   "source": [
    "a = 6.371e6\n",
    "g = 9.81\n",
    "h_e = [12, 25, 50] # equivalent depths following Wheeler and Kiladis\n",
    "k = np.arange(-14,14+1,1)\n",
    "k_rad_per_m = k * 2 * np.pi / (2 * np.pi * a)\n",
    "\n",
    "# - loop over equivalent depths\n",
    "w_kelvin = []\n",
    "for i in np.arange(0,len(h_e),1):\n",
    "    D = h_e[i] # equivalent depth\n",
    "    w = np.sqrt(g*D)*k_rad_per_m\n",
    "    w = w*86400./(2*np.pi) # convert from rad/s to cycles/day\n",
    "    w = xr.DataArray(w, dims=['k'], coords=[k], name='w_kelvin')\n",
    "    w_kelvin.append(w)\n",
    "\n",
    "w_kelvin = xr.concat(w_kelvin, dim='h_e')\n",
    "w_kelvin['h_e'] = h_e"
   ]
  },
  {
   "cell_type": "markdown",
   "id": "696f66ba-ddda-4f2f-95cc-273efb4c35aa",
   "metadata": {},
   "source": [
    "### Inertio-gravity waves\n",
    "\n",
    "Dispersion relation: $\\omega^{2} = (2n + 1)\\beta  \\sqrt{gh_e} + gh_{e}k^{2}$ (Gill, equion 11.6.7)\n",
    "\n",
    "Phase speed: c=$\\sqrt{g h_{e}}$\n",
    "\n",
    "- $\\omega$ = angular frequency (rad/s)\n",
    "- $\\beta$ beta parameter $2\\Omega cos(\\phi_{o})/a$\n",
    "- $g$ = acceleration due to gravity (9.81 ms$^{-1}$)\n",
    "- $h_{e}$ = equivalent depth\n",
    "- $k$ = wavenumber in rad m$^{-1}$\n",
    "- $n$ is the order of the parabolic cylinder function"
   ]
  },
  {
   "cell_type": "code",
   "execution_count": 12,
   "id": "6a4f03bc-024c-46b2-b464-0f20d9e53c3c",
   "metadata": {},
   "outputs": [],
   "source": [
    "a = 6.371e6\n",
    "g = 9.81\n",
    "h_e = [12, 25, 50] # equivalent depths following Wheeler and Kiladis\n",
    "k = np.arange(-14,14+1,1)\n",
    "k_rad_per_m = k * 2 * np.pi / (2 * np.pi * a)\n",
    "beta=(2/a) * (2*np.pi / (24.*60.*60.)) *np.cos(0)\n",
    "\n",
    "#----n=1\n",
    "n=1\n",
    "\n",
    "# - loop over equivalent depths\n",
    "w_ig_n1 = []\n",
    "for i in np.arange(0,len(h_e),1):\n",
    "    D = h_e[i] # equivalent depth\n",
    "    w2= (2*n + 1)*beta*np.sqrt(g*D) + g*D*(k_rad_per_m**2.)\n",
    "    w = np.sqrt(w2)\n",
    "    w = w*86400./(2*np.pi) # convert from rad/s to cycles/day\n",
    "    w = xr.DataArray(w, dims=['k'], coords=[k], name='w_ig_n1')\n",
    "    w_ig_n1.append(w)\n",
    "    \n",
    "w_ig_n1 = xr.concat(w_ig_n1, dim='h_e')\n",
    "w_ig_n1['h_e'] = h_e\n",
    "\n",
    "\n",
    "#----n=2\n",
    "n=2\n",
    "\n",
    "# - loop over equivalent depths\n",
    "w_ig_n2 = []\n",
    "for i in np.arange(0,len(h_e),1):\n",
    "    D = h_e[i] # equivalent depth\n",
    "    w2= (2*n + 1)*beta*np.sqrt(g*D) + g*D*(k_rad_per_m**2.)\n",
    "    w = np.sqrt(w2)\n",
    "    w = w*86400./(2*np.pi) # convert from rad/s to cycles/day\n",
    "    w = xr.DataArray(w, dims=['k'], coords=[k], name='w_ig_n2')\n",
    "    w_ig_n2.append(w)\n",
    "    \n",
    "w_ig_n2 = xr.concat(w_ig_n2, dim='h_e')\n",
    "w_ig_n2['h_e'] = h_e"
   ]
  },
  {
   "cell_type": "markdown",
   "id": "6bbeae61-0aea-4ca6-ba7d-83d0053508a4",
   "metadata": {},
   "source": [
    "### Equatorially trapped Rossby waves\n",
    "\n",
    "Dispersion relation: $\\omega = - \\frac{\\beta k}{k^{2} + \\frac{1}{\\sqrt{gh_{e}}}(2n + 1)\\beta}$\n",
    "\n",
    "- $\\omega$ = angular frequency (rad/s)\n",
    "- $\\beta$ = beta parameter $2\\Omega cos(\\phi_{o}) / a$\n",
    "- $k$ = zonal wavenumber\n",
    "- $g$ = acceleration due to gravity (9.81m/s)\n",
    "- $h_{e}$ = equivalent depth\n",
    "- $n$ is the order of the parabolic cylinder function"
   ]
  },
  {
   "cell_type": "code",
   "execution_count": 4,
   "id": "a3b3c32d-6c41-4cde-a6b4-b0046a9ce362",
   "metadata": {},
   "outputs": [],
   "source": [
    "a = 6.371e6\n",
    "g = 9.81\n",
    "h_e = [ 12, 25, 50]\n",
    "k = np.arange(-14,14+1,1)\n",
    "k_rad_per_m = k*2*np.pi / (2*np.pi*a)\n",
    "beta = (2/a) * (2*np.pi / (24.*60.*60.))*np.cos(0)\n",
    "n=1\n",
    "\n",
    "# - loop over equivalent depths\n",
    "w_etrap = []\n",
    "for i in np.arange(0,len(h_e),1):\n",
    "    D = h_e[i] # equivalent depth\n",
    "    w = -1.*(beta*k_rad_per_m) / ( k_rad_per_m**2 + (1/np.sqrt(g*D))*(2*n + 1)*beta)\n",
    "    #w = -1.*(beta*k_rad_per_m) / ( k_rad_per_m**2 + (1/(g*D))*(2*n + 1)*beta)\n",
    "    w = w*86400./(2*np.pi) # convert from rad/s to cycles/day\n",
    "    w = xr.DataArray(w, dims=['k'], coords=[k], name='w_etrap')\n",
    "    w_etrap.append(w)\n",
    "w_etrap = xr.concat(w_etrap, dim='h_e')\n",
    "w_etrap['h_e'] = h_e"
   ]
  },
  {
   "cell_type": "markdown",
   "id": "df2eaaa1-bb22-4f02-9d53-a4135cd55833",
   "metadata": {},
   "source": [
    "### Mixed Rossby-Gravity Waves\n",
    "\n",
    "Dispersion relation: $\\frac{\\omega}{c} - k - \\frac{\\beta}{\\omega} = 0$ (Gill equation 11.6.9).\n",
    "\n",
    "This has roots:\n",
    "\n",
    "$\\frac{ kc \\pm \\sqrt{k^{2}c^{2} + 4\\beta c}}{2}$\n",
    "\n",
    "Only using the positive one.  $c=\\sqrt{gh_{e}}$.\n",
    "\n",
    "- $\\omega$ = the angular frequency (in rad/s)\n",
    "- $\\beta$ = the beta parameter $2\\Omega cos(\\phi_{o}) / a$\n",
    "- $g$ = the acceleration due to gravity (9.81m/s)\n",
    "- $h_{e}$ is the equivalent depth\n",
    "- $k$ is the horizontal wavenumber (in rad/m)\n",
    "- $a$ = the Earth's radius"
   ]
  },
  {
   "cell_type": "code",
   "execution_count": 6,
   "id": "72d40bfe-fd76-419e-8453-7ef1b79207ee",
   "metadata": {},
   "outputs": [],
   "source": [
    "a = 6.371e6\n",
    "g = 9.81\n",
    "h_e = [ 12, 25, 50]\n",
    "k = np.arange(-14,14+1,1)\n",
    "k_rad_per_m = k*2*np.pi / (2*np.pi*a)\n",
    "beta = (2/a) * (2*np.pi / (24.*60.*60.))*np.cos(0)\n",
    "\n",
    "w_mrg=[]\n",
    "\n",
    "for i in np.arange(0,len(h_e),1):\n",
    "    D = h_e[i] # equivalent depth\n",
    "    term1 = (1./2.)*k_rad_per_m * np.sqrt(g*D)\n",
    "    term2 = (1./2.)*np.sqrt( ((k_rad_per_m*np.sqrt(g*D))**2) + (4*beta*np.sqrt(g*D)) )\n",
    "    w = term1 + term2\n",
    "    w = w*86400./(2*np.pi)\n",
    "    w = xr.DataArray(w, dims=['k'], coords=[k], name='w_mrg')\n",
    "    w_mrg.append(w)\n",
    "w_mrg = xr.concat(w_mrg, dim='h_e')\n",
    "w_mrg['h_e'] = h_e"
   ]
  },
  {
   "cell_type": "code",
   "execution_count": 14,
   "id": "937cf0de-2b0d-495c-afe2-9a415cd4fb57",
   "metadata": {},
   "outputs": [],
   "source": [
    "datout = xr.merge([w_kelvin, w_ig_n1, w_ig_n2, w_etrap, w_mrg])\n",
    "datout.to_netcdf(pathout+'dispersion_curves.nc')"
   ]
  },
  {
   "cell_type": "code",
   "execution_count": null,
   "id": "49376366-aa57-4cf6-873a-0fd52ec531c1",
   "metadata": {},
   "outputs": [],
   "source": []
  }
 ],
 "metadata": {
  "kernelspec": {
   "display_name": "Python [conda env:islaenv]",
   "language": "python",
   "name": "conda-env-islaenv-py"
  },
  "language_info": {
   "codemirror_mode": {
    "name": "ipython",
    "version": 3
   },
   "file_extension": ".py",
   "mimetype": "text/x-python",
   "name": "python",
   "nbconvert_exporter": "python",
   "pygments_lexer": "ipython3",
   "version": "3.10.13"
  }
 },
 "nbformat": 4,
 "nbformat_minor": 5
}

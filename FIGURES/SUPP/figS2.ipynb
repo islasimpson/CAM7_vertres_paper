{
 "cells": [
  {
   "cell_type": "code",
   "execution_count": 1,
   "id": "340b4631-2ff2-4ac7-ab2c-8f999c786376",
   "metadata": {},
   "outputs": [],
   "source": [
    "import xarray as xr\n",
    "import numpy as np\n",
    "import matplotlib.pyplot as plt\n",
    "from math import nan\n",
    "from CASutils import averaging_utils as avg"
   ]
  },
  {
   "cell_type": "code",
   "execution_count": 2,
   "id": "8136720f-b679-47dc-a73a-2150dba68372",
   "metadata": {},
   "outputs": [],
   "source": [
    "plotpath=\"/project/cas/islas/python_plots/CAM7_vertres_paper/FIGURES/SUPP/\""
   ]
  },
  {
   "cell_type": "code",
   "execution_count": 3,
   "id": "eb9e71b4-23f4-44cf-9d55-b7fe1ce3fa2c",
   "metadata": {},
   "outputs": [],
   "source": [
    "era5 = xr.open_dataset(\"/project/cas/islas/python_savs/CAM7_vertres_paper/grids/reanalyses/ERA5_hybridcoefs.nc\")\n",
    "jra55 = xr.open_dataset(\"/project/cas/islas/python_savs/CAM7_vertres_paper/grids/reanalyses/JRA55_hybridcoefs.nc\")\n",
    "merra2 = xr.open_dataset(\"/project/cas/islas/python_savs/CAM7_vertres_paper/grids/reanalyses/MERRA2_pmid.nc\")"
   ]
  },
  {
   "cell_type": "markdown",
   "id": "4c1211ef-ea05-4c53-a747-a20d5807aa4b",
   "metadata": {},
   "source": [
    "### Compute mid and half pressure levels for ERA5 hybrid coefficients"
   ]
  },
  {
   "cell_type": "code",
   "execution_count": 4,
   "id": "067fbf4c-0ff9-467e-bc55-1adb3e90ea4d",
   "metadata": {},
   "outputs": [],
   "source": [
    "phalf_era5 = (era5.a_half + era5.b_half*1e5)/100.\n",
    "pmid_era5 = (era5.a_model + era5.b_model*1e5)/100."
   ]
  },
  {
   "cell_type": "markdown",
   "id": "cecff34f-f0ef-4090-bc7c-3c4695d3df3c",
   "metadata": {},
   "source": [
    "### Compute mid and half levels for JRA55 hybrid coefficients"
   ]
  },
  {
   "cell_type": "code",
   "execution_count": 5,
   "id": "b21d5c37-9341-4c04-898e-1596a8b02d06",
   "metadata": {},
   "outputs": [],
   "source": [
    "phalf_jra55 = (jra55.hyam + jra55.hybm*1e5)/100.\n",
    "pmid_jra55 = phalf_jra55[0:phalf_jra55.lev.size] - (phalf_jra55[0:phalf_jra55.lev.size] - phalf_jra55[1:phalf_jra55.lev.size+1])\n",
    "phalf_jra55 = phalf_jra55.reindex(lev=list(reversed(phalf_jra55.lev)))\n",
    "pmid_jra55 = pmid_jra55.reindex(lev=list(reversed(pmid_jra55.lev)))"
   ]
  },
  {
   "cell_type": "markdown",
   "id": "3cdec1de-fd34-4415-aef9-2222eaf547d8",
   "metadata": {},
   "source": [
    "### Compute mid and half levels for MERRA5 (from pressures, globally averaged)"
   ]
  },
  {
   "cell_type": "code",
   "execution_count": 6,
   "id": "869223b8-2306-4a0e-856a-b82a18734b4b",
   "metadata": {},
   "outputs": [
    {
     "name": "stdout",
     "output_type": "stream",
     "text": [
      "flipping longitudes\n",
      "flipping longitudes\n"
     ]
    }
   ],
   "source": [
    "merra2_delp = avg.cosweightlonlat(merra2.DELP.isel(time=0),0,360,-90,90)\n",
    "merra2_pl = avg.cosweightlonlat(merra2.PL.isel(time=0), 0, 360, -90, 90)\n",
    "phalf_merra2 = [merra2_pl.isel(lev=0) - merra2_delp.isel(lev=0)/2.]\n",
    "for i in np.arange(0,merra2_delp.lev.size,1):\n",
    "    phalf_merra2.append( merra2_pl.isel(lev=i) + merra2_delp.isel(lev=i)/2. )\n",
    "phalf_merra2 = xr.concat(phalf_merra2, dim='ilev')\n",
    "pmid_merra2 = merra2_pl/100.\n",
    "phalf_merra2 = phalf_merra2/100."
   ]
  },
  {
   "cell_type": "code",
   "execution_count": 7,
   "id": "076b2bd8-8096-4301-b21e-c280ae68c0c3",
   "metadata": {},
   "outputs": [],
   "source": [
    "def calcdz(p, levvar='ilev'):\n",
    "    H=7000.\n",
    "    z=-H*np.log(p/1000.)\n",
    "    dz = -1.*(np.array(z.isel(**{levvar:slice(1,p.size)}) - np.array(z.isel(**{levvar:slice(0,p.size-1)}))))\n",
    "    return dz"
   ]
  },
  {
   "cell_type": "markdown",
   "id": "40d3a4a9-1c6b-4d28-8f9c-36801afdcdce",
   "metadata": {},
   "source": [
    "### Set up the plot"
   ]
  },
  {
   "cell_type": "code",
   "execution_count": 8,
   "id": "1cf30b88-17bf-454c-9a16-419c2ad31126",
   "metadata": {},
   "outputs": [],
   "source": [
    "def setupplot(x1, x2, y1, y2, titlestr, xlim=None):\n",
    "    H=7000.\n",
    "    ax = fig.add_axes([x1, y1, x2-x1, y2-y1])\n",
    "    ax.set_ylim(-np.log(1000),-np.log(1e-6))\n",
    "    if (xlim):\n",
    "        ax.set_xlim(0,xlim)\n",
    "        ax.set_xticks( (np.arange(0,xlim/500+1,1)*500).astype(int).tolist())\n",
    "        ax.set_xticklabels( (np.arange(0,xlim/500+1,1)*500).astype(int).tolist(), fontsize=13)\n",
    "    else:\n",
    "        ax.set_xlim(0,5800)\n",
    "        ax.set_xticks(np.arange(0,5500/1000+1,1)*1000)\n",
    "        ax.set_xticklabels( (np.arange(0,5500/1000+1,1)*1000).astype(int).tolist(), fontsize=13)\n",
    "        \n",
    "    ax.set_yticks([-np.log(1000),-np.log(100),-np.log(10),-np.log(1),-np.log(0.1),\n",
    "                   -np.log(0.01),-np.log(0.001),-np.log(0.0001),-np.log(0.00001),-np.log(0.000001)])\n",
    "    ax.set_yticklabels(['1000','100','10','1','0.1','1e-2','1e-3','1e-4','1e-5','1e-6'], fontsize=13)\n",
    "    ax.set_ylabel('Pressure (hPa)', fontsize=14)\n",
    "    \n",
    "    ax2 = ax.twinx()\n",
    "    ax2.set_ylim(-np.log(1000),-np.log(1e-6))\n",
    "    \n",
    "    zticks=[0,20,40,60,80,100,120,140]\n",
    "    ztickvals = [1000.*np.exp(-zticks[i]*1000./H) for i in np.arange(0,len(zticks),1)]\n",
    "    ax2.set_yticks(-np.log(ztickvals))\n",
    "    ax2.set_yticklabels(['0','20','40','60','80','100','120','140'], fontsize=13)\n",
    "    ax2.set_ylabel('Height (km)', fontsize=14)\n",
    "    \n",
    "    ax.set_title(titlestr,fontsize=16)\n",
    "    ax.set_xlabel('dz (m)', fontsize=14)\n",
    "    \n",
    "    return ax"
   ]
  },
  {
   "cell_type": "code",
   "execution_count": 9,
   "id": "933b1e26-b8c8-41b7-ba9c-802341d09e8d",
   "metadata": {},
   "outputs": [
    {
     "name": "stderr",
     "output_type": "stream",
     "text": [
      "/project/cas02/islas/miniconda3/envs/islaenv/lib/python3.10/site-packages/xarray/core/computation.py:825: RuntimeWarning: divide by zero encountered in log\n",
      "  result_data = func(*input_data)\n",
      "/project/cas02/islas/miniconda3/envs/islaenv/lib/python3.10/site-packages/xarray/core/computation.py:825: RuntimeWarning: divide by zero encountered in log\n",
      "  result_data = func(*input_data)\n"
     ]
    },
    {
     "data": {
      "image/png": "[encoded data removed]",
      "text/plain": [
       "<Figure size 1152x1152 with 2 Axes>"
      ]
     },
     "metadata": {
      "needs_background": "light"
     },
     "output_type": "display_data"
    }
   ],
   "source": [
    "fig = plt.figure(figsize=(16,16))\n",
    "\n",
    "ax = setupplot(0.02,0.32,0.7,1,'Reanalyses vertical grids')\n",
    "\n",
    "dz_era5 = calcdz(phalf_era5, levvar='half_level')\n",
    "ax.plot(dz_era5, -np.log(pmid_era5),\"o\", label='ERA5')\n",
    "\n",
    "dz_jra55 = calcdz(phalf_jra55, levvar='lev')\n",
    "ax.plot(dz_jra55, -np.log(pmid_jra55),\"o\", label='JRA55')\n",
    "\n",
    "dz_merra2 = calcdz(phalf_merra2, levvar='ilev')\n",
    "ax.plot(dz_merra2, -np.log(pmid_merra2),\"o\", label='MERRA2')\n",
    "\n",
    "ax.legend()\n",
    "\n",
    "fig.savefig(plotpath+'figS2.pdf', bbox_inches='tight', facecolor='white')"
   ]
  },
  {
   "cell_type": "code",
   "execution_count": null,
   "id": "1dc7631d-0375-4081-842c-83256abd23a8",
   "metadata": {},
   "outputs": [],
   "source": []
  }
 ],
 "metadata": {
  "kernelspec": {
   "display_name": "Python [conda env:islaenv]",
   "language": "python",
   "name": "conda-env-islaenv-py"
  },
  "language_info": {
   "codemirror_mode": {
    "name": "ipython",
    "version": 3
   },
   "file_extension": ".py",
   "mimetype": "text/x-python",
   "name": "python",
   "nbconvert_exporter": "python",
   "pygments_lexer": "ipython3",
   "version": "3.10.13"
  }
 },
 "nbformat": 4,
 "nbformat_minor": 5
}

{
 "cells": [
  {
   "cell_type": "code",
   "execution_count": 7,
   "id": "766d5584-8cd1-4d69-8893-314f7b86058e",
   "metadata": {},
   "outputs": [],
   "source": [
    "import xarray as xr\n",
    "import numpy as np\n",
    "import matplotlib.pyplot as plt\n",
    "\n",
    "from CASutils import qbo_utils as qbo\n",
    "from CASutils import plotting_utils as myplots\n",
    "from CASutils import colorbar_utils as cbars"
   ]
  },
  {
   "cell_type": "code",
   "execution_count": 8,
   "id": "d2402937-5c04-46cc-8673-01970a41c898",
   "metadata": {},
   "outputs": [],
   "source": [
    "plotpath=\"/project/cas/islas/python_plots/CAM7_vertres_paper/FIGURES/\""
   ]
  },
  {
   "cell_type": "code",
   "execution_count": 9,
   "id": "07bf30cc-7e3d-4b65-824d-a13697ee5216",
   "metadata": {},
   "outputs": [],
   "source": [
    "basepath=\"/project/cas/islas/python_savs/CAM7_vertres_paper/DATA_SORT/QBOcomposites/90day_beforeW_powerspec/\""
   ]
  },
  {
   "cell_type": "code",
   "execution_count": 10,
   "id": "02175748-4e78-48ec-8ff9-35857991cd57",
   "metadata": {},
   "outputs": [],
   "source": [
    "era5_50 = xr.open_dataset(basepath+'ERA5_50hpa_5S5N_90days.nc')\n",
    "dz1000_50 = xr.open_dataset(basepath+'dz1000_50hpa_5S5N.nc')\n",
    "dz900_50 = xr.open_dataset(basepath+'dz900_50hpa_5S5N.nc')\n",
    "dz800_50 = xr.open_dataset(basepath+'dz800_50hpa_5S5N.nc')\n",
    "dz700_50 = xr.open_dataset(basepath+'dz700_50hpa_5S5N.nc')\n",
    "dz600_50 = xr.open_dataset(basepath+'dz600_50hpa_5S5N.nc')\n",
    "dz500_50 = xr.open_dataset(basepath+'dz500_50hpa_5S5N.nc')\n",
    "dz400_50 = xr.open_dataset(basepath+'dz400_50hpa_5S5N.nc')"
   ]
  },
  {
   "cell_type": "code",
   "execution_count": 11,
   "id": "b68b2d5d-2001-41d3-a685-3dc7aa37492a",
   "metadata": {},
   "outputs": [],
   "source": [
    "dcurves = xr.open_dataset(\"/project/cas/islas/python_savs/CAM7_vertres_paper/DATA_SORT/dispersion_curves/dispersion_curves.nc\")"
   ]
  },
  {
   "cell_type": "code",
   "execution_count": 12,
   "id": "1d34e22c-1df1-489e-a7fc-fc0b6fb9f600",
   "metadata": {},
   "outputs": [],
   "source": [
    "def oplot_dcurves(ax, dcurves, component='symmetric'):\n",
    "    if (component == \"symmetric\"):\n",
    "        for i in np.arange(0,dcurves.h_e.size,1):\n",
    "            ax.plot(dcurves.k, dcurves.w_kelvin.isel(h_e=i), color='gray')\n",
    "            ax.plot(dcurves.k, dcurves.w_ig_n1.isel(h_e=i), color='gray')\n",
    "            ax.plot(dcurves.k, dcurves.w_etrap.isel(h_e=i), color='gray')\n",
    "    else:\n",
    "        for i in np.arange(0,dcurves.h_e.size,1):\n",
    "            ax.plot(dcurves.k, dcurves.w_mrg.sel(h_e=i), color='gray')\n",
    "            ax.plot(dcurves.k, dcurves.w_ig_nw.isel(h_e=i), color='gray')\n",
    "    return ax"
   ]
  },
  {
   "cell_type": "code",
   "execution_count": null,
   "id": "c6bc1088-fc8f-463e-a343-eb0b59eadfc7",
   "metadata": {
    "tags": []
   },
   "outputs": [],
   "source": [
    "fig = plt.figure(figsize=(16,16))\n",
    "\n",
    "ci=1e-6 ; cmax=-1e-5 ; cmin=-1e-5\n",
    "component='symmetric'\n",
    "\n",
    "#---non-linear contour interval for u'w'\n",
    "cvals=[-0.0005,-0.00025,-0.0001,-0.00005,-0.000025,-0.00001,-0.000005,-0.0000025,\n",
    "                0.0000025,0.000005,0.00001,0.000025,0.00005,0.0001,0.00025,0.0005]\n",
    "cvals_cbar=[ i*10000 for i in cvals ]\n",
    "ticks=[-5.0,-2.5,-1.0,-0.5,-0.25,-0.1,-0.05,-0.025,0.025,0.05,0.1,0.25,0.5,1.0,2.5,5.0]\n",
    "\n",
    "xlim=14\n",
    "ax = myplots.plotWK(fig, era5_50.cospec_uw.sel(component=component).mean('icomp'), era5_50.k, era5_50.w, ci, cmin, cmax,\n",
    "                    '(a) ERA5',0,0.11,0.8,0.97,contourlinescale=2, cmap='blue2red', xlim=[-1*xlim, xlim],\n",
    "                    speclevs=cvals)\n",
    "ax = oplot_dcurves(ax, dcurves, component=component)\n",
    "\n",
    "ax = myplots.plotWK(fig, dz1000_50.cospec_uw.sel(component=component).mean('icomp'), dz1000_50.k, dz1000_50.w, ci, -1.*cmax, cmax,\n",
    "                    '(b) dz1000',0.13,0.24,0.8,0.97, ylabel=False, contourlinescale=2, cmap='blue2red', xlim=[-1*xlim, xlim],\n",
    "                    speclevs=cvals)\n",
    "ax = oplot_dcurves(ax, dcurves, component=component)\n",
    "\n",
    "\n",
    "ax = myplots.plotWK(fig, dz900_50.cospec_uw.sel(component=component).mean('icomp'), dz900_50.k, dz900_50.w, ci, -1.*cmax, cmax,\n",
    "                    '(c) dz900',0.25,0.36,0.8,0.97, ylabel=False, contourlinescale=2, cmap='blue2red', xlim=[-1*xlim, xlim],\n",
    "                    speclevs=cvals)\n",
    "ax = oplot_dcurves(ax, dcurves, component=component)\n",
    "\n",
    "ax = myplots.plotWK(fig, dz800_50.cospec_uw.sel(component=component).mean('icomp'), dz800_50.k, dz800_50.w, ci, -1.*cmax, cmax,\n",
    "                    '(d) dz800',0.37,0.48,0.8,0.97, ylabel=False, contourlinescale=2, cmap='blue2red', xlim=[-1*xlim, xlim],\n",
    "                    speclevs=cvals)\n",
    "ax = oplot_dcurves(ax, dcurves, component=component)\n",
    "\n",
    "ax = myplots.plotWK(fig, dz700_50.cospec_uw.sel(component=component).mean('icomp'), dz700_50.k, dz700_50.w, ci, -1.*cmax, cmax,\n",
    "                    '(e) dz700',0.49,0.6,0.8,0.97, ylabel=False, contourlinescale=2, cmap='blue2red', xlim=[-1*xlim, xlim],\n",
    "                    speclevs=cvals)\n",
    "ax = oplot_dcurves(ax, dcurves, component=component)\n",
    "\n",
    "ax = myplots.plotWK(fig, dz600_50.cospec_uw.sel(component=component).mean('icomp'), dz600_50.k, dz600_50.w, ci, -1.*cmax, cmax,\n",
    "                    '(f) dz600',0.61,0.72,0.8,0.97, ylabel=False, contourlinescale=2, cmap='blue2red', xlim=[-1*xlim, xlim],\n",
    "                    speclevs=cvals)\n",
    "ax = oplot_dcurves(ax, dcurves, component=component)\n",
    "\n",
    "ax = myplots.plotWK(fig, dz500_50.cospec_uw.sel(component=component).mean('icomp'), dz500_50.k, dz500_50.w, ci, -1.*cmax, cmax,\n",
    "                    '(g) dz500',0.73,0.84,0.8,0.97, ylabel=False, contourlinescale=2, cmap='blue2red', xlim=[-1*xlim, xlim],\n",
    "                    speclevs=cvals)\n",
    "ax = oplot_dcurves(ax, dcurves, component=component)\n",
    "\n",
    "ax = myplots.plotWK(fig, dz400_50.cospec_uw.sel(component=component).mean('icomp'), dz400_50.k, dz400_50.w, ci, -1.*cmax, cmax,\n",
    "                    '(h) dz400',0.85,0.96,0.8,0.97, ylabel=False, contourlinescale=2, cmap='blue2red', xlim=[-1*xlim, xlim],\n",
    "                    speclevs=cvals)\n",
    "ax = oplot_dcurves(ax, dcurves, component=component)\n",
    "\n",
    "ax = cbars.plotcolorbar_sayc(fig, cvals_cbar,\"$u'\\omega$' ($\\\\times$10$^{-4}$ m Pa s$^{-2}$)\",0.97,0.98,0.8,0.97,orient='vertical', ticks=ticks,\n",
    "                            contourlines=True, fsize=14)\n",
    "\n",
    "#----W power spectrum 50hPa\n",
    "ci=0.2 ; cmin=-8.6 ; cmax=-7\n",
    "\n",
    "ax = myplots.plotWK(fig, np.log10(era5_50.cospec_ww.sel(component=component).mean('icomp')), era5_50.k, era5_50.w, ci, cmin, cmax,\n",
    "                    '(i) ERA5',0.,0.11,0.57,0.74,contourlinescale=1, cmap='blue2red', xlim=[-1*xlim, xlim],posonly=True)\n",
    "ax = oplot_dcurves(ax, dcurves, component=component)\n",
    "\n",
    "ax = myplots.plotWK(fig, np.log10(dz1000_50.cospec_ww.sel(component=component).mean('icomp')), dz1000_50.k, dz1000_50.w, ci, cmin, cmax,\n",
    "                    '(j) dz1000',0.13,0.24,0.57,0.74,ylabel=False, contourlinescale=1, cmap='blue2red', xlim=[-1*xlim, xlim], posonly=True)\n",
    "ax = oplot_dcurves(ax, dcurves, component=component)\n",
    "\n",
    "ax = myplots.plotWK(fig, np.log10(dz900_50.cospec_ww.sel(component=component).mean('icomp')), dz900_50.k, dz900_50.w, ci, cmin, cmax,\n",
    "                    '(k) dz900',0.25,0.36,0.57,0.74,ylabel=False, contourlinescale=1, cmap='blue2red', xlim=[-1*xlim, xlim], posonly=True)\n",
    "ax = oplot_dcurves(ax, dcurves, component=component)\n",
    "\n",
    "ax = myplots.plotWK(fig, np.log10(dz800_50.cospec_ww.sel(component=component).mean('icomp')), dz800_50.k, dz800_50.w, ci, cmin, cmax,\n",
    "                    '(l) dz800',0.37,0.48,0.57,0.74,ylabel=False, contourlinescale=1, cmap='blue2red', xlim=[-1*xlim, xlim], posonly=True)\n",
    "ax = oplot_dcurves(ax, dcurves, component=component)\n",
    "\n",
    "ax = myplots.plotWK(fig, np.log10(dz700_50.cospec_ww.sel(component=component).mean('icomp')), dz700_50.k, dz700_50.w, ci, cmin, cmax,\n",
    "                    '(m) dz700',0.49,0.6,0.57,0.74,ylabel=False, contourlinescale=1, cmap='blue2red', xlim=[-1*xlim, xlim], posonly=True)\n",
    "ax = oplot_dcurves(ax, dcurves, component=component)\n",
    "\n",
    "ax = myplots.plotWK(fig, np.log10(dz600_50.cospec_ww.sel(component=component).mean('icomp')), dz600_50.k, dz600_50.w, ci, cmin, cmax,\n",
    "                    '(n) dz600',0.61,0.72,0.57,0.74,ylabel=False, contourlinescale=1, cmap='blue2red', xlim=[-1*xlim, xlim], posonly=True)\n",
    "ax = oplot_dcurves(ax, dcurves, component=component)\n",
    "\n",
    "ax = myplots.plotWK(fig, np.log10(dz500_50.cospec_ww.sel(component=component).mean('icomp')), dz500_50.k, dz500_50.w, ci, cmin, cmax,\n",
    "                    '(o) dz500',0.73,0.84,0.57,0.74,ylabel=False, contourlinescale=1, cmap='blue2red', xlim=[-1*xlim, xlim], posonly=True)\n",
    "ax = oplot_dcurves(ax, dcurves, component=component)\n",
    "\n",
    "ax = myplots.plotWK(fig, np.log10(dz400_50.cospec_ww.sel(component=component).mean('icomp')), dz400_50.k, dz400_50.w, ci, cmin, cmax,\n",
    "                    '(p) dz400',0.85,0.96,0.57,0.74,ylabel=False, contourlinescale=1, cmap='blue2red', xlim=[-1*xlim, xlim], posonly=True)\n",
    "ax = oplot_dcurves(ax, dcurves, component=component)\n",
    "\n",
    "ax = cbars.plotcolorbar_log10(fig, ci, cmin, cmax,\"$x$ of 10$^{x}$ $\\omega$'$\\omega$' (Pa$^{2}$s$^{-2}$)\", 0.97,0.98,0.57,0.74,orient='vertical', contourlines=True,\n",
    "                              posonly=True, ticklabel10=False, fsize=14)\n",
    "\n",
    "fig.savefig(plotpath+'fig6.pdf', bbox_inches='tight', facecolor='white')"
   ]
  },
  {
   "cell_type": "code",
   "execution_count": 14,
   "id": "f205dc74-9ecb-40c6-aa66-0ba37f941c35",
   "metadata": {},
   "outputs": [
    {
     "data": {
      "text/plain": [
       "<module 'CASutils.colorbar_utils' from '/home/islas/python/CASanalysis/CASutils/colorbar_utils.py'>"
      ]
     },
     "execution_count": 14,
     "metadata": {},
     "output_type": "execute_result"
    }
   ],
   "source": [
    "import importlib\n",
    "importlib.reload(cbars)"
   ]
  },
  {
   "cell_type": "code",
   "execution_count": null,
   "id": "6887e345-2bd2-4ed5-a284-13446cbbf29d",
   "metadata": {},
   "outputs": [],
   "source": []
  }
 ],
 "metadata": {
  "kernelspec": {
   "display_name": "Python [conda env:islaenv]",
   "language": "python",
   "name": "conda-env-islaenv-py"
  },
  "language_info": {
   "codemirror_mode": {
    "name": "ipython",
    "version": 3
   },
   "file_extension": ".py",
   "mimetype": "text/x-python",
   "name": "python",
   "nbconvert_exporter": "python",
   "pygments_lexer": "ipython3",
   "version": "3.10.13"
  }
 },
 "nbformat": 4,
 "nbformat_minor": 5
}
